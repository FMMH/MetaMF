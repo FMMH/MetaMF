{
 "cells": [
  {
   "cell_type": "code",
   "execution_count": 1,
   "id": "8b59e569",
   "metadata": {},
   "outputs": [
    {
     "name": "stderr",
     "output_type": "stream",
     "text": [
      "Installing package into 'C:/Users/fleur/OneDrive/Documenten/R/win-library/3.6'\n",
      "(as 'lib' is unspecified)\n"
     ]
    },
    {
     "name": "stdout",
     "output_type": "stream",
     "text": [
      "\n",
      "  There is a binary version available but the source version is later:\n",
      "         binary source needs_compilation\n",
      "synthpop  1.6-0  1.7-0             FALSE\n",
      "\n"
     ]
    },
    {
     "name": "stderr",
     "output_type": "stream",
     "text": [
      "installing the source package 'synthpop'\n",
      "\n"
     ]
    }
   ],
   "source": [
    "install.packages('synthpop')"
   ]
  },
  {
   "cell_type": "code",
   "execution_count": 2,
   "id": "9512f1c7",
   "metadata": {},
   "outputs": [
    {
     "name": "stderr",
     "output_type": "stream",
     "text": [
      "Find out more at https://www.synthpop.org.uk/\n"
     ]
    }
   ],
   "source": [
    "library(synthpop)"
   ]
  },
  {
   "cell_type": "code",
   "execution_count": 86,
   "id": "741855f7",
   "metadata": {},
   "outputs": [],
   "source": [
    "hidden10 = read.csv('C:/Users/fleur/Thesis B3/RQ0/RobustnessOfMetaMF-master/RobustnessOfMetaMF-master/ThesisData/ml-1m/ml-1m_time/ml-1m_hidden10p.csv')\n",
    "data = hidden10\n",
    "# print(hidden90)"
   ]
  },
  {
   "cell_type": "code",
   "execution_count": 87,
   "id": "73029efc",
   "metadata": {},
   "outputs": [],
   "source": [
    "data$timestamp<-NULL"
   ]
  },
  {
   "cell_type": "code",
   "execution_count": 88,
   "id": "97906a72",
   "metadata": {},
   "outputs": [],
   "source": [
    "data$rating = as.factor(data$rating)"
   ]
  },
  {
   "cell_type": "code",
   "execution_count": 89,
   "id": "a44f90b5",
   "metadata": {},
   "outputs": [
    {
     "name": "stdout",
     "output_type": "stream",
     "text": [
      "Synthesis\n",
      "-----------\n",
      " user_id item_id rating\n"
     ]
    }
   ],
   "source": [
    "myseed<-51723\n",
    "sds = syn(data, visit.sequence = c(1,2,3), method = c(' ', ' ', 'cart'), seed = myseed, proper = FALSE)"
   ]
  },
  {
   "cell_type": "code",
   "execution_count": 90,
   "id": "b65dfc3c",
   "metadata": {},
   "outputs": [
    {
     "name": "stdout",
     "output_type": "stream",
     "text": [
      "[1] user_id item_id rating \n",
      "<0 rows> (or 0-length row.names)\n"
     ]
    }
   ],
   "source": [
    "augmented = sds\n",
    "synRep = augmented$syn[duplicated(augmented$syn[,1:2]),]\n",
    "print(synRep)"
   ]
  },
  {
   "cell_type": "code",
   "execution_count": 91,
   "id": "7b4579e0",
   "metadata": {},
   "outputs": [
    {
     "data": {
      "text/plain": [
       "\n",
       "    1     2     3     4     5 \n",
       " 3794  7627 20091 29577 22664 "
      ]
     },
     "metadata": {},
     "output_type": "display_data"
    }
   ],
   "source": [
    "table(augmented$syn$rating)"
   ]
  },
  {
   "cell_type": "code",
   "execution_count": 92,
   "id": "1cdd3ac9",
   "metadata": {},
   "outputs": [
    {
     "data": {
      "text/plain": [
       "\n",
       "    1     2     3     4     5 \n",
       " 3798  7633 20082 29652 22588 "
      ]
     },
     "metadata": {},
     "output_type": "display_data"
    }
   ],
   "source": [
    "table(data$rating)"
   ]
  },
  {
   "cell_type": "code",
   "execution_count": 93,
   "id": "8aae99a1",
   "metadata": {},
   "outputs": [
    {
     "data": {
      "text/html": [
       "83753"
      ],
      "text/latex": [
       "83753"
      ],
      "text/markdown": [
       "83753"
      ],
      "text/plain": [
       "[1] 83753"
      ]
     },
     "metadata": {},
     "output_type": "display_data"
    }
   ],
   "source": [
    "NROW(augmented$syn)"
   ]
  },
  {
   "cell_type": "code",
   "execution_count": 94,
   "id": "05005148",
   "metadata": {},
   "outputs": [
    {
     "data": {
      "text/html": [
       "83753"
      ],
      "text/latex": [
       "83753"
      ],
      "text/markdown": [
       "83753"
      ],
      "text/plain": [
       "[1] 83753"
      ]
     },
     "metadata": {},
     "output_type": "display_data"
    }
   ],
   "source": [
    "NROW(data)"
   ]
  },
  {
   "cell_type": "code",
   "execution_count": 95,
   "id": "ea37ffe5",
   "metadata": {},
   "outputs": [],
   "source": [
    "write.csv(augmented$syn, \"C:/Users/fleur/Thesis B3/RQ0/RobustnessOfMetaMF-master/RobustnessOfMetaMF-master/ThesisData/ml-1m/ml-1m_time/augmented/sd10p.csv\", row.names=FALSE, quote=FALSE)"
   ]
  },
  {
   "cell_type": "code",
   "execution_count": 96,
   "id": "17e48bdb",
   "metadata": {},
   "outputs": [
    {
     "data": {
      "text/plain": [
       "\n",
       "Comparing percentages observed with synthetic\n",
       "\n",
       "\n",
       "Selected utility measures:\n",
       "       pMSE   S_pMSE df\n",
       "rating    0 0.114547  4"
      ]
     },
     "metadata": {},
     "output_type": "display_data"
    },
    {
     "data": {
      "image/png": "[encoded data removed]",
      "text/plain": [
       "plot without title"
      ]
     },
     "metadata": {},
     "output_type": "display_data"
    }
   ],
   "source": [
    "compare(augmented$syn, data, var = \"rating\")"
   ]
  },
  {
   "cell_type": "code",
   "execution_count": 31,
   "id": "9b77092b",
   "metadata": {},
   "outputs": [],
   "source": []
  },
  {
   "cell_type": "code",
   "execution_count": null,
   "id": "1a3067b8",
   "metadata": {},
   "outputs": [],
   "source": []
  }
 ],
 "metadata": {
  "kernelspec": {
   "display_name": "R",
   "language": "R",
   "name": "ir"
  },
  "language_info": {
   "codemirror_mode": "r",
   "file_extension": ".r",
   "mimetype": "text/x-r-source",
   "name": "R",
   "pygments_lexer": "r",
   "version": "3.6.1"
  }
 },
 "nbformat": 4,
 "nbformat_minor": 5
}
