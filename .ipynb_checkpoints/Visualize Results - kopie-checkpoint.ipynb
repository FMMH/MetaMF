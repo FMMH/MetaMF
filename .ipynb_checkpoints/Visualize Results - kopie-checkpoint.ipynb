{
 "cells": [
  {
   "cell_type": "code",
   "execution_count": 1,
   "metadata": {},
   "outputs": [],
   "source": [
    "import pandas as pd\n",
    "import numpy as np\n",
    "import matplotlib.pyplot as plt\n",
    "import matplotlib"
   ]
  },
  {
   "cell_type": "markdown",
   "metadata": {},
   "source": [
    "# Read Results of Experiments with MetaMF and NoMetaMF"
   ]
  },
  {
   "cell_type": "code",
   "execution_count": 6,
   "metadata": {},
   "outputs": [],
   "source": [
    "meta_ml100k_df = pd.read_csv(\"experiments/meta/ml100k/results.csv\", sep = ',').sort_values(by=\"beta\", ascending=False)"
   ]
  },
  {
   "cell_type": "code",
   "execution_count": null,
   "metadata": {},
   "outputs": [],
   "source": [
    "meta_douban_df = pd.read_csv(\"experiments/meta/db/results.csv\").sort_values(by=\"beta\", ascending=False)\n",
    "meta_html_df = pd.read_csv(\"experiments/meta/ht-ml/results.csv\").sort_values(by=\"beta\", ascending=False)\n",
    "meta_ml_df = pd.read_csv(\"experiments/meta/ml/results.csv\").sort_values(by=\"beta\", ascending=False)\n",
    "meta_ciao_df = pd.read_csv(\"experiments/meta/ciao/results.csv\").sort_values(by=\"beta\", ascending=False)\n",
    "meta_jester_df = pd.read_csv(\"experiments/meta/jester/results.csv\").sort_values(by=\"beta\", ascending=False)"
   ]
  },
  {
   "cell_type": "code",
   "execution_count": null,
   "metadata": {},
   "outputs": [],
   "source": [
    "nometa_douban_df = pd.read_csv(\"experiments/nometa/db/results.csv\").sort_values(by=\"beta\", ascending=False)\n",
    "nometa_html_df = pd.read_csv(\"experiments/nometa/ht-ml/results.csv\").sort_values(by=\"beta\", ascending=False)\n",
    "nometa_ml_df = pd.read_csv(\"experiments/nometa/ml/results.csv\").sort_values(by=\"beta\", ascending=False)\n",
    "nometa_ciao_df = pd.read_csv(\"experiments/nometa/ciao/results.csv\").sort_values(by=\"beta\", ascending=False)\n",
    "nometa_jester_df = pd.read_csv(\"experiments/nometa/jester/results.csv\").sort_values(by=\"beta\", ascending=False)"
   ]
  },
  {
   "cell_type": "code",
   "execution_count": 3,
   "metadata": {},
   "outputs": [],
   "source": [
    "matplotlib.rcParams.update({'font.size': 12})\n",
    "budget = np.array([1.0, 0.9, 0.8, 0.7, 0.6, 0.5, 0.4, 0.3, 0.2, 0.1])"
   ]
  },
  {
   "cell_type": "markdown",
   "metadata": {},
   "source": [
    "# MetaMF\n",
    "Plot the relative mean absolute error $\\Delta MAE$ of MetaMF against privacy budget $\\beta$ for all five datasets."
   ]
  },
  {
   "cell_type": "code",
   "execution_count": 7,
   "metadata": {},
   "outputs": [
    {
     "data": {
      "image/png": "[encoded data removed]",
      "text/plain": [
       "<Figure size 432x288 with 1 Axes>"
      ]
     },
     "metadata": {
      "needs_background": "light"
     },
     "output_type": "display_data"
    }
   ],
   "source": [
    "ml100k_test = meta_ml100k_df[\"test_mae_all\"].values\n",
    "\n",
    "plt.plot(ml100k_test / ml100k_test[0], label=\"ML100K\", color=\"C1\", linestyle=\"solid\")\n",
    "\n",
    "plt.ylim([0.8, 2.1])\n",
    "plt.xticks(range(10), budget)\n",
    "plt.legend(loc=\"upper left\", ncol=2)\n",
    "plt.ylabel(r\"$\\Delta\\mathrm{MAE}@\\beta$\")\n",
    "plt.xlabel(r\"Privacy Budget $\\beta$\")\n",
    "\n",
    "plt.tight_layout()"
   ]
  },
  {
   "cell_type": "code",
   "execution_count": null,
   "metadata": {},
   "outputs": [],
   "source": [
    "db_test = meta_douban_df[\"test_mae_all\"].values\n",
    "html_test = meta_html_df[\"test_mae_all\"].values\n",
    "ml_test = meta_ml_df[\"test_mae_all\"].values\n",
    "ciao_test = meta_ciao_df[\"test_mae_all\"].values\n",
    "jester_test = meta_jester_df[\"test_mae_all\"].values\n",
    "plt.plot(db_test / db_test[0], label=\"Douban\", color=\"C1\", linestyle=\"solid\")\n",
    "plt.plot(html_test / html_test[0], label=\"Hetrec-Movielens\", color=\"C2\", linestyle=\"dotted\")\n",
    "plt.plot(ml_test / ml_test[0], label=\"Movielens-1M\", color=\"C3\", linestyle=\"dashed\")\n",
    "plt.plot(ciao_test / ciao_test[0], label=\"Ciao\", color=\"C4\", linestyle=\"dashdot\")\n",
    "plt.plot(jester_test / jester_test[0], label=\"Jester\", color=\"C5\", linestyle=(0, (3, 1, 1, 1, 1, 1)))\n",
    "plt.ylim([0.8, 2.1])\n",
    "plt.xticks(range(10), budget)\n",
    "plt.legend(loc=\"upper left\", ncol=2)\n",
    "plt.ylabel(r\"$\\Delta\\mathrm{MAE}@\\beta$\")\n",
    "plt.xlabel(r\"Privacy Budget $\\beta$\")\n",
    "\n",
    "plt.tight_layout()"
   ]
  },
  {
   "cell_type": "markdown",
   "metadata": {},
   "source": [
    "# NoMetaMF\n",
    "Plot the relative mean absolute error $\\Delta MAE$ of NoMetaMF against privacy budget $\\beta$ for all five datasets."
   ]
  },
  {
   "cell_type": "code",
   "execution_count": null,
   "metadata": {},
   "outputs": [],
   "source": [
    "db_test = nometa_douban_df[\"test_mae_all\"].values\n",
    "html_test = nometa_html_df[\"test_mae_all\"].values\n",
    "ml_test = nometa_ml_df[\"test_mae_all\"].values\n",
    "ciao_test = nometa_ciao_df[\"test_mae_all\"].values\n",
    "jester_test = nometa_jester_df[\"test_mae_all\"].values\n",
    "\n",
    "plt.plot(db_test / db_test[0], label=\"Douban\", color=\"C1\", linestyle=\"solid\")\n",
    "plt.plot(html_test / html_test[0], label=\"Hetrec-Movielens\", color=\"C2\", linestyle=\"dotted\")\n",
    "plt.plot(ml_test / ml_test[0], label=\"Movielens-1M\", color=\"C3\", linestyle=\"dashed\")\n",
    "plt.plot(ciao_test / ciao_test[0], label=\"Ciao\", color=\"C4\", linestyle=\"dashdot\")\n",
    "plt.plot(jester_test / jester_test[0], label=\"Jester\", color=\"C5\", linestyle=(0, (3, 1, 1, 1, 1, 1)))\n",
    "plt.ylim([0.8, 2.1])\n",
    "plt.xticks(range(10), budget)\n",
    "plt.legend(loc=\"upper left\", ncol=2)\n",
    "plt.ylabel(r\"$\\Delta\\mathrm{MAE}@\\beta$\")\n",
    "plt.xlabel(r\"Privacy Budget $\\beta$\")\n",
    "plt.tight_layout()"
   ]
  },
  {
   "cell_type": "markdown",
   "metadata": {},
   "source": [
    "# MetaMF User Groups\n",
    "Plot the relative mean absolute error $\\Delta MAE$ of MetaMF against privacy budget $\\beta$ for all three user groups of all five datasets."
   ]
  },
  {
   "cell_type": "code",
   "execution_count": null,
   "metadata": {},
   "outputs": [],
   "source": [
    "matplotlib.rcParams.update({'font.size': 15})"
   ]
  },
  {
   "cell_type": "markdown",
   "metadata": {},
   "source": [
    "## Douban"
   ]
  },
  {
   "cell_type": "code",
   "execution_count": 1,
   "metadata": {},
   "outputs": [
    {
     "ename": "NameError",
     "evalue": "name 'meta_douban_df' is not defined",
     "output_type": "error",
     "traceback": [
      "\u001b[1;31m---------------------------------------------------------------------------\u001b[0m",
      "\u001b[1;31mNameError\u001b[0m                                 Traceback (most recent call last)",
      "\u001b[1;32m<ipython-input-1-df017f4ce035>\u001b[0m in \u001b[0;36m<module>\u001b[1;34m\u001b[0m\n\u001b[1;32m----> 1\u001b[1;33m \u001b[0mdb_low\u001b[0m \u001b[1;33m=\u001b[0m \u001b[0mmeta_douban_df\u001b[0m\u001b[1;33m[\u001b[0m\u001b[1;34m\"test_mae_low\"\u001b[0m\u001b[1;33m]\u001b[0m\u001b[1;33m.\u001b[0m\u001b[0mvalues\u001b[0m\u001b[1;33m\u001b[0m\u001b[1;33m\u001b[0m\u001b[0m\n\u001b[0m\u001b[0;32m      2\u001b[0m \u001b[0mdb_med\u001b[0m \u001b[1;33m=\u001b[0m \u001b[0mmeta_douban_df\u001b[0m\u001b[1;33m[\u001b[0m\u001b[1;34m\"test_mae_med\"\u001b[0m\u001b[1;33m]\u001b[0m\u001b[1;33m.\u001b[0m\u001b[0mvalues\u001b[0m\u001b[1;33m\u001b[0m\u001b[1;33m\u001b[0m\u001b[0m\n\u001b[0;32m      3\u001b[0m \u001b[0mdb_high\u001b[0m \u001b[1;33m=\u001b[0m \u001b[0mmeta_douban_df\u001b[0m\u001b[1;33m[\u001b[0m\u001b[1;34m\"test_mae_high\"\u001b[0m\u001b[1;33m]\u001b[0m\u001b[1;33m.\u001b[0m\u001b[0mvalues\u001b[0m\u001b[1;33m\u001b[0m\u001b[1;33m\u001b[0m\u001b[0m\n\u001b[0;32m      4\u001b[0m \u001b[1;33m\u001b[0m\u001b[0m\n\u001b[0;32m      5\u001b[0m \u001b[0mplt\u001b[0m\u001b[1;33m.\u001b[0m\u001b[0mplot\u001b[0m\u001b[1;33m(\u001b[0m\u001b[0mdb_low\u001b[0m\u001b[1;33m,\u001b[0m \u001b[0mlabel\u001b[0m\u001b[1;33m=\u001b[0m\u001b[1;34mr\"$Low$\"\u001b[0m\u001b[1;33m,\u001b[0m \u001b[0mcolor\u001b[0m\u001b[1;33m=\u001b[0m\u001b[1;34m\"C1\"\u001b[0m\u001b[1;33m,\u001b[0m \u001b[0mlinestyle\u001b[0m\u001b[1;33m=\u001b[0m\u001b[1;34m\"solid\"\u001b[0m\u001b[1;33m)\u001b[0m\u001b[1;33m\u001b[0m\u001b[1;33m\u001b[0m\u001b[0m\n",
      "\u001b[1;31mNameError\u001b[0m: name 'meta_douban_df' is not defined"
     ]
    }
   ],
   "source": [
    "db_low = meta_douban_df[\"test_mae_low\"].values\n",
    "db_med = meta_douban_df[\"test_mae_med\"].values\n",
    "db_high = meta_douban_df[\"test_mae_high\"].values\n",
    "\n",
    "plt.plot(db_low, label=r\"$Low$\", color=\"C1\", linestyle=\"solid\")\n",
    "plt.plot(db_med, label=r\"$Med$\", color=\"C2\", linestyle=\"dashed\")\n",
    "plt.plot(db_high, label=r\"$High$\", color=\"C3\", linestyle=\"dashdot\")\n",
    "plt.xticks(range(0, 10, 2), budget[::2])\n",
    "plt.legend()\n",
    "plt.ylabel(r\"$\\Delta\\mathrm{MAE}@\\beta$\")\n",
    "plt.xlabel(r\"Privacy Budget $\\beta$\")\n",
    "plt.tight_layout()"
   ]
  },
  {
   "cell_type": "markdown",
   "metadata": {},
   "source": [
    "## Hetrec-MovieLens"
   ]
  },
  {
   "cell_type": "code",
   "execution_count": null,
   "metadata": {},
   "outputs": [],
   "source": [
    "html_low = meta_html_df[\"test_mae_low\"].values\n",
    "html_med = meta_html_df[\"test_mae_med\"].values\n",
    "html_high = meta_html_df[\"test_mae_high\"].values\n",
    "\n",
    "plt.plot(html_low / html_low[0], label=r\"$Low$\", color=\"C1\", linestyle=\"solid\")\n",
    "plt.plot(html_med / html_med[0], label=r\"$Med$\", color=\"C2\", linestyle=\"dashed\")\n",
    "plt.plot(html_high / html_high[0], label=r\"$High$\", color=\"C3\", linestyle=\"dashdot\")\n",
    "plt.xticks(range(0, 10, 2), budget[::2])\n",
    "plt.legend()\n",
    "plt.ylabel(r\"$\\Delta\\mathrm{MAE}@\\beta$\")\n",
    "plt.xlabel(r\"Privacy Budget $\\beta$\")\n",
    "plt.tight_layout()"
   ]
  },
  {
   "cell_type": "markdown",
   "metadata": {},
   "source": [
    "## MovieLens 1M"
   ]
  },
  {
   "cell_type": "code",
   "execution_count": null,
   "metadata": {},
   "outputs": [],
   "source": [
    "ml_low = meta_ml_df[\"test_mae_low\"].values\n",
    "ml_med = meta_ml_df[\"test_mae_med\"].values\n",
    "ml_high = meta_ml_df[\"test_mae_high\"].values\n",
    "\n",
    "plt.plot(ml_low / ml_low[0], label=r\"$Low$\", color=\"C1\", linestyle=\"solid\")\n",
    "plt.plot(ml_med / ml_med[0], label=r\"$Med$\", color=\"C2\", linestyle=\"dashed\")\n",
    "plt.plot(ml_high / ml_high[0], label=r\"$High$\", color=\"C3\", linestyle=\"dashdot\")\n",
    "plt.xticks(range(0, 10, 2), budget[::2])\n",
    "plt.legend()\n",
    "plt.ylabel(r\"$\\Delta\\mathrm{MAE}@\\beta$\")\n",
    "plt.xlabel(r\"Privacy Budget $\\beta$\")\n",
    "plt.tight_layout()"
   ]
  },
  {
   "cell_type": "markdown",
   "metadata": {},
   "source": [
    "## Ciao"
   ]
  },
  {
   "cell_type": "code",
   "execution_count": null,
   "metadata": {},
   "outputs": [],
   "source": [
    "ciao_low = meta_ciao_df[\"test_mae_low\"].values\n",
    "ciao_med = meta_ciao_df[\"test_mae_med\"].values\n",
    "ciao_high = meta_ciao_df[\"test_mae_high\"].values\n",
    "\n",
    "plt.plot(ciao_low / ciao_low[0], label=r\"$Low$\", color=\"C1\", linestyle=\"solid\")\n",
    "plt.plot(ciao_med / ciao_med[0], label=r\"$Med$\", color=\"C2\", linestyle=\"dashed\")\n",
    "plt.plot(ciao_high / ciao_high[0], label=r\"$High$\", color=\"C3\", linestyle=\"dashdot\")\n",
    "plt.xticks(range(0, 10, 2), budget[::2])\n",
    "plt.legend(loc=\"upper left\")\n",
    "plt.ylabel(r\"$\\Delta\\mathrm{MAE}@\\beta$\")\n",
    "plt.xlabel(r\"Privacy Budget $\\beta$\")\n",
    "plt.tight_layout()"
   ]
  },
  {
   "cell_type": "markdown",
   "metadata": {},
   "source": [
    "## Jester"
   ]
  },
  {
   "cell_type": "code",
   "execution_count": null,
   "metadata": {
    "scrolled": true
   },
   "outputs": [],
   "source": [
    "jester_low = meta_jester_df[\"test_mae_low\"].values\n",
    "jester_med = meta_jester_df[\"test_mae_med\"].values\n",
    "jester_high = meta_jester_df[\"test_mae_high\"].values\n",
    "\n",
    "plt.plot(jester_low / jester_low[0], label=r\"$Low$\", color=\"C1\", linestyle=\"solid\")\n",
    "plt.plot(jester_med / jester_med[0], label=r\"$Med$\", color=\"C2\", linestyle=\"dashed\")\n",
    "plt.plot(jester_high / jester_high[0], label=r\"$High$\", color=\"C3\", linestyle=\"dashdot\")\n",
    "plt.xticks(range(0, 10, 2), budget[::2])\n",
    "plt.legend()\n",
    "plt.ylabel(r\"$\\Delta\\mathrm{MAE}@\\beta$\")\n",
    "plt.xlabel(r\"Privacy Budget $\\beta$\")\n",
    "plt.tight_layout()"
   ]
  },
  {
   "cell_type": "markdown",
   "metadata": {},
   "source": [
    "## ML100K"
   ]
  },
  {
   "cell_type": "code",
   "execution_count": 8,
   "metadata": {},
   "outputs": [
    {
     "data": {
      "image/png": "[encoded data removed]",
      "text/plain": [
       "<Figure size 432x288 with 1 Axes>"
      ]
     },
     "metadata": {
      "needs_background": "light"
     },
     "output_type": "display_data"
    }
   ],
   "source": [
    "ml100k_low = meta_ml100k_df[\"test_mae_low\"].values\n",
    "ml100k_med = meta_ml100k_df[\"test_mae_med\"].values\n",
    "ml100k_high = meta_ml100k_df[\"test_mae_high\"].values\n",
    "\n",
    "plt.plot(ml100k_low / ml100k_low[0], label=r\"$Low$\", color=\"C1\", linestyle=\"solid\")\n",
    "plt.plot(ml100k_med / ml100k_med[0], label=r\"$Med$\", color=\"C2\", linestyle=\"dashed\")\n",
    "plt.plot(ml100k_high / ml100k_high[0], label=r\"$High$\", color=\"C3\", linestyle=\"dashdot\")\n",
    "plt.xticks(range(0, 10, 2), budget[::2])\n",
    "plt.legend()\n",
    "plt.ylabel(r\"$\\Delta\\mathrm{MAE}@\\beta$\")\n",
    "plt.xlabel(r\"Privacy Budget $\\beta$\")\n",
    "plt.tight_layout()"
   ]
  },
  {
   "cell_type": "code",
   "execution_count": null,
   "metadata": {},
   "outputs": [],
   "source": []
  }
 ],
 "metadata": {
  "kernelspec": {
   "display_name": "Python 3",
   "language": "python",
   "name": "python3"
  },
  "language_info": {
   "codemirror_mode": {
    "name": "ipython",
    "version": 3
   },
   "file_extension": ".py",
   "mimetype": "text/x-python",
   "name": "python",
   "nbconvert_exporter": "python",
   "pygments_lexer": "ipython3",
   "version": "3.8.5"
  }
 },
 "nbformat": 4,
 "nbformat_minor": 4
}
