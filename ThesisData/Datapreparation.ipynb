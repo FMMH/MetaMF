{
 "cells": [
  {
   "cell_type": "code",
   "execution_count": 1,
   "metadata": {},
   "outputs": [
    {
     "name": "stdout",
     "output_type": "stream",
     "text": [
      "Requirement already satisfied: lenskit in c:\\users\\fleur\\anaconda3\\lib\\site-packages (0.14.0)\n",
      "Requirement already satisfied: pandas==1.*,>=1.0 in c:\\users\\fleur\\anaconda3\\lib\\site-packages (from lenskit) (1.1.3)\n",
      "Requirement already satisfied: seedbank>=0.1.0 in c:\\users\\fleur\\anaconda3\\lib\\site-packages (from lenskit) (0.1.2)\n",
      "Requirement already satisfied: csr>=0.3.1 in c:\\users\\fleur\\anaconda3\\lib\\site-packages (from lenskit) (0.4.1)\n",
      "Requirement already satisfied: scipy>=1.2 in c:\\users\\fleur\\anaconda3\\lib\\site-packages (from lenskit) (1.5.2)\n",
      "Requirement already satisfied: binpickle>=0.3.2 in c:\\users\\fleur\\anaconda3\\lib\\site-packages (from lenskit) (0.3.4)\n",
      "Requirement already satisfied: numba<0.56,>=0.51 in c:\\users\\fleur\\anaconda3\\lib\\site-packages (from lenskit) (0.51.2)\n",
      "Requirement already satisfied: cffi>=1.12.2 in c:\\users\\fleur\\anaconda3\\lib\\site-packages (from lenskit) (1.14.3)\n",
      "Requirement already satisfied: psutil>=5 in c:\\users\\fleur\\anaconda3\\lib\\site-packages (from lenskit) (5.7.2)\n",
      "Requirement already satisfied: numpy>=1.17 in c:\\users\\fleur\\anaconda3\\lib\\site-packages (from lenskit) (1.22.2)\n",
      "Requirement already satisfied: python-dateutil>=2.7.3 in c:\\users\\fleur\\anaconda3\\lib\\site-packages (from pandas==1.*,>=1.0->lenskit) (2.8.1)\n",
      "Requirement already satisfied: pytz>=2017.2 in c:\\users\\fleur\\anaconda3\\lib\\site-packages (from pandas==1.*,>=1.0->lenskit) (2020.1)\n",
      "Requirement already satisfied: anyconfig in c:\\users\\fleur\\anaconda3\\lib\\site-packages (from seedbank>=0.1.0->lenskit) (0.12.0)\n",
      "Requirement already satisfied: msgpack>=1.0 in c:\\users\\fleur\\anaconda3\\lib\\site-packages (from binpickle>=0.3.2->lenskit) (1.0.0)\n",
      "Requirement already satisfied: llvmlite<0.35,>=0.34.0.dev0 in c:\\users\\fleur\\anaconda3\\lib\\site-packages (from numba<0.56,>=0.51->lenskit) (0.34.0)\n",
      "Requirement already satisfied: setuptools in c:\\users\\fleur\\anaconda3\\lib\\site-packages (from numba<0.56,>=0.51->lenskit) (50.3.1.post20201107)\n",
      "Requirement already satisfied: pycparser in c:\\users\\fleur\\anaconda3\\lib\\site-packages (from cffi>=1.12.2->lenskit) (2.20)\n",
      "Requirement already satisfied: six>=1.5 in c:\\users\\fleur\\anaconda3\\lib\\site-packages (from python-dateutil>=2.7.3->pandas==1.*,>=1.0->lenskit) (1.15.0)\n",
      "Note: you may need to restart the kernel to use updated packages.\n"
     ]
    }
   ],
   "source": [
    "%pip install lenskit"
   ]
  },
  {
   "cell_type": "code",
   "execution_count": null,
   "metadata": {},
   "outputs": [],
   "source": []
  },
  {
   "cell_type": "code",
   "execution_count": 2,
   "metadata": {},
   "outputs": [
    {
     "data": {
      "text/plain": [
       "[\"'wget' is not recognized as an internal or external command,\",\n",
       " 'operable program or batch file.']"
      ]
     },
     "execution_count": 2,
     "metadata": {},
     "output_type": "execute_result"
    }
   ],
   "source": [
    "%%!\n",
    "wget -q -O ml-1m.zip http://files.grouplens.org/datasets/movielens/ml-1m.zip\n",
    "unzip -f ml-1m.zip"
   ]
  },
  {
   "cell_type": "code",
   "execution_count": 29,
   "metadata": {},
   "outputs": [],
   "source": [
    "from lenskit.datasets import MovieLens\n",
    "from lenskit import batch, topn, util\n",
    "from lenskit import crossfold as xf\n",
    "from lenskit.algorithms import Recommender, als, item_knn as knn\n",
    "from lenskit import topn"
   ]
  },
  {
   "cell_type": "code",
   "execution_count": 30,
   "metadata": {},
   "outputs": [],
   "source": [
    "import pandas as pd\n",
    "import tqdm"
   ]
  },
  {
   "cell_type": "code",
   "execution_count": 31,
   "metadata": {},
   "outputs": [
    {
     "name": "stdout",
     "output_type": "stream",
     "text": [
      "100836\n"
     ]
    }
   ],
   "source": [
    "mllatestsmall = MovieLens('ml-latest-small\\ml-latest-small')\n",
    "ratings = mllatestsmall.ratings\n",
    "ratings.drop(['timestamp'], axis=1, inplace=True)\n",
    "ratings.head()\n",
    "print(len(ratings))"
   ]
  },
  {
   "cell_type": "code",
   "execution_count": 32,
   "metadata": {},
   "outputs": [
    {
     "name": "stdout",
     "output_type": "stream",
     "text": [
      "        user    item  rating\n",
      "0          1       1     4.0\n",
      "1          1       3     4.0\n",
      "2          1       6     4.0\n",
      "3          1      47     5.0\n",
      "4          1      50     5.0\n",
      "...      ...     ...     ...\n",
      "100831   610  166534     4.0\n",
      "100832   610  168248     5.0\n",
      "100833   610  168250     5.0\n",
      "100834   610  168252     5.0\n",
      "100835   610  170875     3.0\n",
      "\n",
      "[100836 rows x 3 columns]\n",
      "10093\n",
      "90743\n"
     ]
    }
   ],
   "source": [
    "import lenskit.crossfold as xf\n",
    "print(ratings)\n",
    "# ratings = data.rename(columns={'user_id': 'user', 'item_id': 'item'})\n",
    "# for splitting by time: xf.LastN(10)\n",
    "for i, tp in enumerate(xf.partition_users(ratings, 1, xf.SampleFrac(0.1))):\n",
    "    tp.train.to_csv(r'C:\\Users\\fleur\\Thesis B3\\RQ0\\RobustnessOfMetaMF-master\\RobustnessOfMetaMF-master\\ThesisData\\ml-latest-small\\ml-latest-small\\ml-latest-small.trainval.rating', index = False)\n",
    "    trainVal = tp.train\n",
    "    tp.test.to_csv(r'C:\\Users\\fleur\\Thesis B3\\RQ0\\RobustnessOfMetaMF-master\\RobustnessOfMetaMF-master\\ThesisData\\ml-latest-small\\ml-latest-small\\ml-latest-small.test.rating', index = False)\n",
    "    test = tp.test\n",
    "print(len(test))\n",
    "print(len(trainVal))"
   ]
  },
  {
   "cell_type": "code",
   "execution_count": 33,
   "metadata": {},
   "outputs": [
    {
     "name": "stdout",
     "output_type": "stream",
     "text": [
      "9071\n",
      "81672\n",
      "90743\n"
     ]
    }
   ],
   "source": [
    "for i, tp in enumerate(xf.partition_users(trainVal, 1, xf.SampleFrac(0.1))):\n",
    "    tp.train.to_csv(r'C:\\Users\\fleur\\Thesis B3\\RQ0\\RobustnessOfMetaMF-master\\RobustnessOfMetaMF-master\\ThesisData\\ml-latest-small\\ml-latest-small\\ml-latest-small.train.rating', index = False)\n",
    "    train = tp.train\n",
    "    tp.test.to_csv(r'C:\\Users\\fleur\\Thesis B3\\RQ0\\RobustnessOfMetaMF-master\\RobustnessOfMetaMF-master\\ThesisData\\ml-latest-small\\ml-latest-small\\ml-latest-small.valid.rating', index = False)\n",
    "    val = tp.test\n",
    "print(len(val))\n",
    "print(len(train))\n",
    "print(len(train)+len(val))"
   ]
  },
  {
   "cell_type": "code",
   "execution_count": null,
   "metadata": {},
   "outputs": [],
   "source": []
  },
  {
   "cell_type": "code",
   "execution_count": 34,
   "metadata": {},
   "outputs": [
    {
     "name": "stdout",
     "output_type": "stream",
     "text": [
      "   user  item  rating\n",
      "0     1     1     4.0\n",
      "1     1     3     4.0\n",
      "2     1     6     4.0\n",
      "3     1    47     5.0\n",
      "4     1    50     5.0\n",
      "     user  item  rating\n",
      "59      1  1060     4.0\n",
      "211     1  3439     4.0\n",
      "49      1  1009     3.0\n",
      "181     1  2761     5.0\n",
      "91      1  1348     4.0\n",
      "     user  item  rating\n",
      "160     1  2478     4.0\n",
      "95      1  1445     3.0\n",
      "33      1   592     4.0\n",
      "7       1   110     4.0\n",
      "64      1  1092     5.0\n",
      "81672\n",
      "9071\n",
      "10093\n",
      "100836\n"
     ]
    }
   ],
   "source": [
    "#ratings_test = ratings.sample(frac=0.10)\n",
    "#ratings_valid = (ratings.drop(ratings_test.index)).sample(frac=0.10)\n",
    "#ratings_train = ratings.drop(ratings_valid.index)\n",
    "#ratings_train = ratings_train.drop(ratings_test.index)\n",
    "\n",
    "print(train.head())\n",
    "print(val.head())\n",
    "print(test.head())\n",
    "print(len(train))\n",
    "print(len(val))\n",
    "print(len(test))\n",
    "print(len(test)+len(val)+len(train))"
   ]
  },
  {
   "cell_type": "code",
   "execution_count": 8,
   "metadata": {},
   "outputs": [],
   "source": [
    "ratings_test.to_csv(r'C:\\Users\\fleur\\Thesis B3\\RQ0\\RobustnessOfMetaMF-master\\RobustnessOfMetaMF-master\\ThesisData\\ml-100k\\ml-100k\\ml-100k.test.rating', header=None, index=None, sep=' ', mode='a')\n",
    "ratings_valid.to_csv(r'C:\\Users\\fleur\\Thesis B3\\RQ0\\RobustnessOfMetaMF-master\\RobustnessOfMetaMF-master\\ThesisData\\ml-100k\\ml-100k\\ml-100k.valid.rating', header=None, index=None, sep=' ', mode='a')\n",
    "ratings_train.to_csv(r'C:\\Users\\fleur\\Thesis B3\\RQ0\\RobustnessOfMetaMF-master\\RobustnessOfMetaMF-master\\ThesisData\\ml-100k\\ml-100k\\ml-100k.train.rating', header=None, index=None, sep=' ', mode='a')"
   ]
  },
  {
   "cell_type": "code",
   "execution_count": 87,
   "metadata": {},
   "outputs": [
    {
     "name": "stdout",
     "output_type": "stream",
     "text": [
      "   user  item  rating  timestamp\n",
      "0     1     1     4.0  964982703\n",
      "1     1     3     4.0  964981247\n",
      "2     1     6     4.0  964982224\n",
      "3     1    47     5.0  964983815\n",
      "4     1    50     5.0  964982931\n",
      "   user\n",
      "0     1\n",
      "1     1\n",
      "2     1\n",
      "3     1\n",
      "4     1\n",
      "        user\n",
      "0          1\n",
      "249        2\n",
      "289        3\n",
      "446        4\n",
      "548        5\n",
      "...      ...\n",
      "98105    606\n",
      "98605    607\n",
      "99214    608\n",
      "99518    609\n",
      "100404   610\n",
      "\n",
      "[610 rows x 1 columns]\n"
     ]
    }
   ],
   "source": [
    "print(ratings.head())\n",
    "test = ratings.copy()\n",
    "test.drop(['item', 'rating', 'timestamp'], axis=1, inplace=True)\n",
    "print(test.head())\n",
    "sort = test.sort_values(test.columns[0], ascending = True)\n",
    "sort2 = sort.drop_duplicates(subset=['user'], keep='first')\n",
    "print(sort2)\n",
    "sort2.to_csv(r'C:\\Users\\fleur\\Thesis B3\\RQ0\\RobustnessOfMetaMF-master\\RobustnessOfMetaMF-master\\ThesisData\\ml-latest-small\\ml-latest-small\\mllatsmall.userlist', header=None, index=None, sep=' ', mode='a')"
   ]
  },
  {
   "cell_type": "code",
   "execution_count": 6,
   "metadata": {},
   "outputs": [
    {
     "name": "stdout",
     "output_type": "stream",
     "text": [
      "   user  item  rating\n",
      "0   196   242     3.0\n",
      "1   186   302     3.0\n",
      "2    22   377     1.0\n",
      "3   244    51     2.0\n",
      "4   166   346     1.0\n",
      "   item\n",
      "0   242\n",
      "1   302\n",
      "2   377\n",
      "3    51\n",
      "4   346\n",
      "       item\n",
      "25741     1\n",
      "50602     2\n",
      "24805     3\n",
      "45328     4\n",
      "33158     5\n",
      "...     ...\n",
      "75323  1678\n",
      "67302  1679\n",
      "80394  1680\n",
      "92329  1681\n",
      "95376  1682\n",
      "\n",
      "[1682 rows x 1 columns]\n"
     ]
    }
   ],
   "source": [
    "print(ratings.head())\n",
    "test1 = ratings.copy()\n",
    "test1.drop(['user', 'rating'], axis=1, inplace=True)\n",
    "print(test1.head())\n",
    "new_sort = test1.sort_values(test1.columns[0], ascending = True)\n",
    "new_sort2 = new_sort.drop_duplicates(subset=['item'], keep='first')\n",
    "print(new_sort2)\n",
    "new_sort2.to_csv(r'C:\\Users\\fleur\\Thesis B3\\RQ0\\RobustnessOfMetaMF-master\\RobustnessOfMetaMF-master\\ThesisData\\ml-100k\\ml-100k\\ml-100k.itemlist', header=None, index=None, sep=' ', mode='a')"
   ]
  },
  {
   "cell_type": "code",
   "execution_count": 17,
   "metadata": {},
   "outputs": [],
   "source": [
    "algo_ii = knn.ItemItem(20)\n",
    "algo_als = als.BiasedMF(50)"
   ]
  },
  {
   "cell_type": "code",
   "execution_count": 21,
   "metadata": {},
   "outputs": [],
   "source": [
    "def eval(aname, algo, train, test):\n",
    "    fittable = util.clone(algo)\n",
    "    fittable = Recommender.adapt(fittable)\n",
    "    fittable.fit(train)\n",
    "    users = test.user.unique()\n",
    "    # now we run the recommender\n",
    "    recs = batch.recommend(fittable, users, 100)\n",
    "    # add the algorithm name for analyzability\n",
    "    recs['Algorithm'] = aname\n",
    "    return recs\n",
    "\n",
    "all_recs = []\n",
    "test_data = []\n",
    "for train, test in xf.partition_users(ratings[['user', 'item', 'rating']], 5, xf.SampleFrac(0.2)):\n",
    "    test_data.append(test)\n",
    "    all_recs.append(eval('ItemItem', algo_ii, train, test))\n",
    "    all_recs.append(eval('ALS', algo_als, train, test))"
   ]
  },
  {
   "cell_type": "code",
   "execution_count": 22,
   "metadata": {},
   "outputs": [
    {
     "data": {
      "text/html": [
       "<div>\n",
       "<style scoped>\n",
       "    .dataframe tbody tr th:only-of-type {\n",
       "        vertical-align: middle;\n",
       "    }\n",
       "\n",
       "    .dataframe tbody tr th {\n",
       "        vertical-align: top;\n",
       "    }\n",
       "\n",
       "    .dataframe thead th {\n",
       "        text-align: right;\n",
       "    }\n",
       "</style>\n",
       "<table border=\"1\" class=\"dataframe\">\n",
       "  <thead>\n",
       "    <tr style=\"text-align: right;\">\n",
       "      <th></th>\n",
       "      <th>item</th>\n",
       "      <th>score</th>\n",
       "      <th>user</th>\n",
       "      <th>rank</th>\n",
       "      <th>Algorithm</th>\n",
       "    </tr>\n",
       "  </thead>\n",
       "  <tbody>\n",
       "    <tr>\n",
       "      <th>0</th>\n",
       "      <td>318</td>\n",
       "      <td>4.861395</td>\n",
       "      <td>9</td>\n",
       "      <td>1</td>\n",
       "      <td>ItemItem</td>\n",
       "    </tr>\n",
       "    <tr>\n",
       "      <th>1</th>\n",
       "      <td>3245</td>\n",
       "      <td>4.834998</td>\n",
       "      <td>9</td>\n",
       "      <td>2</td>\n",
       "      <td>ItemItem</td>\n",
       "    </tr>\n",
       "    <tr>\n",
       "      <th>2</th>\n",
       "      <td>1198</td>\n",
       "      <td>4.780550</td>\n",
       "      <td>9</td>\n",
       "      <td>3</td>\n",
       "      <td>ItemItem</td>\n",
       "    </tr>\n",
       "    <tr>\n",
       "      <th>3</th>\n",
       "      <td>557</td>\n",
       "      <td>4.695896</td>\n",
       "      <td>9</td>\n",
       "      <td>4</td>\n",
       "      <td>ItemItem</td>\n",
       "    </tr>\n",
       "    <tr>\n",
       "      <th>4</th>\n",
       "      <td>53</td>\n",
       "      <td>4.656688</td>\n",
       "      <td>9</td>\n",
       "      <td>5</td>\n",
       "      <td>ItemItem</td>\n",
       "    </tr>\n",
       "  </tbody>\n",
       "</table>\n",
       "</div>"
      ],
      "text/plain": [
       "   item     score  user  rank Algorithm\n",
       "0   318  4.861395     9     1  ItemItem\n",
       "1  3245  4.834998     9     2  ItemItem\n",
       "2  1198  4.780550     9     3  ItemItem\n",
       "3   557  4.695896     9     4  ItemItem\n",
       "4    53  4.656688     9     5  ItemItem"
      ]
     },
     "execution_count": 22,
     "metadata": {},
     "output_type": "execute_result"
    }
   ],
   "source": [
    "all_recs = pd.concat(all_recs, ignore_index=True)\n",
    "all_recs.head()"
   ]
  },
  {
   "cell_type": "code",
   "execution_count": 23,
   "metadata": {},
   "outputs": [],
   "source": [
    "test_data = pd.concat(test_data, ignore_index=True)"
   ]
  },
  {
   "cell_type": "code",
   "execution_count": 24,
   "metadata": {},
   "outputs": [
    {
     "data": {
      "text/html": [
       "<div>\n",
       "<style scoped>\n",
       "    .dataframe tbody tr th:only-of-type {\n",
       "        vertical-align: middle;\n",
       "    }\n",
       "\n",
       "    .dataframe tbody tr th {\n",
       "        vertical-align: top;\n",
       "    }\n",
       "\n",
       "    .dataframe thead th {\n",
       "        text-align: right;\n",
       "    }\n",
       "</style>\n",
       "<table border=\"1\" class=\"dataframe\">\n",
       "  <thead>\n",
       "    <tr style=\"text-align: right;\">\n",
       "      <th></th>\n",
       "      <th></th>\n",
       "      <th>nrecs</th>\n",
       "      <th>ndcg</th>\n",
       "    </tr>\n",
       "    <tr>\n",
       "      <th>Algorithm</th>\n",
       "      <th>user</th>\n",
       "      <th></th>\n",
       "      <th></th>\n",
       "    </tr>\n",
       "  </thead>\n",
       "  <tbody>\n",
       "    <tr>\n",
       "      <th rowspan=\"5\" valign=\"top\">ItemItem</th>\n",
       "      <th>9</th>\n",
       "      <td>100</td>\n",
       "      <td>0.243856</td>\n",
       "    </tr>\n",
       "    <tr>\n",
       "      <th>11</th>\n",
       "      <td>100</td>\n",
       "      <td>0.126639</td>\n",
       "    </tr>\n",
       "    <tr>\n",
       "      <th>13</th>\n",
       "      <td>100</td>\n",
       "      <td>0.077967</td>\n",
       "    </tr>\n",
       "    <tr>\n",
       "      <th>17</th>\n",
       "      <td>100</td>\n",
       "      <td>0.095722</td>\n",
       "    </tr>\n",
       "    <tr>\n",
       "      <th>34</th>\n",
       "      <td>100</td>\n",
       "      <td>0.172689</td>\n",
       "    </tr>\n",
       "  </tbody>\n",
       "</table>\n",
       "</div>"
      ],
      "text/plain": [
       "                nrecs      ndcg\n",
       "Algorithm user                 \n",
       "ItemItem  9       100  0.243856\n",
       "          11      100  0.126639\n",
       "          13      100  0.077967\n",
       "          17      100  0.095722\n",
       "          34      100  0.172689"
      ]
     },
     "execution_count": 24,
     "metadata": {},
     "output_type": "execute_result"
    }
   ],
   "source": [
    "rla = topn.RecListAnalysis()\n",
    "rla.add_metric(topn.ndcg)\n",
    "results = rla.compute(all_recs, test_data)\n",
    "results.head()"
   ]
  },
  {
   "cell_type": "code",
   "execution_count": 25,
   "metadata": {},
   "outputs": [
    {
     "data": {
      "text/plain": [
       "Algorithm\n",
       "ALS         0.102209\n",
       "ItemItem    0.075949\n",
       "Name: ndcg, dtype: float64"
      ]
     },
     "execution_count": 25,
     "metadata": {},
     "output_type": "execute_result"
    }
   ],
   "source": [
    "results.groupby('Algorithm').ndcg.mean()"
   ]
  },
  {
   "cell_type": "code",
   "execution_count": 26,
   "metadata": {},
   "outputs": [
    {
     "data": {
      "text/plain": [
       "<AxesSubplot:xlabel='Algorithm'>"
      ]
     },
     "execution_count": 26,
     "metadata": {},
     "output_type": "execute_result"
    },
    {
     "data": {
      "image/png": "[encoded data removed]",
      "text/plain": [
       "<Figure size 432x288 with 1 Axes>"
      ]
     },
     "metadata": {
      "needs_background": "light"
     },
     "output_type": "display_data"
    }
   ],
   "source": [
    "results.groupby('Algorithm').ndcg.mean().plot.bar()"
   ]
  },
  {
   "cell_type": "code",
   "execution_count": 27,
   "metadata": {},
   "outputs": [],
   "source": [
    "test_data.to_csv(r'C:\\Users\\fleur\\Thesis B3\\RQ0\\RobustnessOfMetaMF-master\\RobustnessOfMetaMF-master\\ThesisData\\ml-1m\\ml-1m\\test_data.txt', header=None, index=None, sep=' ', mode='a')"
   ]
  },
  {
   "cell_type": "code",
   "execution_count": 28,
   "metadata": {},
   "outputs": [],
   "source": [
    "all_recs.to_csv(r'C:\\Users\\fleur\\Thesis B3\\RQ0\\RobustnessOfMetaMF-master\\RobustnessOfMetaMF-master\\ThesisData\\ml-1m\\ml-1m\\all_recs.txt', header=None, index=None, sep=' ', mode='a')"
   ]
  },
  {
   "cell_type": "code",
   "execution_count": 29,
   "metadata": {},
   "outputs": [],
   "source": [
    "all_recs = []\n",
    "train_data = []\n",
    "for train, test in xf.partition_users(ratings[['user', 'item', 'rating']], 1, xf.SampleFrac(0.8)):\n",
    "    train_data.append(test)\n",
    "    all_recs.append(eval('ItemItem', algo_ii, train, test))\n",
    "    all_recs.append(eval('ALS', algo_als, train, test))"
   ]
  },
  {
   "cell_type": "code",
   "execution_count": 35,
   "metadata": {},
   "outputs": [],
   "source": [
    "train_data = pd.concat(train_data, ignore_index=True)\n",
    "train_data.to_csv(r'C:\\Users\\fleur\\Thesis B3\\RQ0\\RobustnessOfMetaMF-master\\RobustnessOfMetaMF-master\\ThesisData\\ml-1m\\ml-1m\\train_data.txt', header=None, index=None, sep=' ', mode='a')"
   ]
  },
  {
   "cell_type": "code",
   "execution_count": null,
   "metadata": {},
   "outputs": [],
   "source": []
  }
 ],
 "metadata": {
  "kernelspec": {
   "display_name": "Python 3",
   "language": "python",
   "name": "python3"
  },
  "language_info": {
   "codemirror_mode": {
    "name": "ipython",
    "version": 3
   },
   "file_extension": ".py",
   "mimetype": "text/x-python",
   "name": "python",
   "nbconvert_exporter": "python",
   "pygments_lexer": "ipython3",
   "version": "3.8.5"
  }
 },
 "nbformat": 4,
 "nbformat_minor": 4
}
