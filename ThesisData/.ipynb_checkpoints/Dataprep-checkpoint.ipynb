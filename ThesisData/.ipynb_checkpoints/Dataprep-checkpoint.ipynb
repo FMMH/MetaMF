{
 "cells": [
  {
   "cell_type": "markdown",
   "metadata": {},
   "source": [
    "# Data generation and pre-processing #"
   ]
  },
  {
   "cell_type": "code",
   "execution_count": 1,
   "metadata": {},
   "outputs": [
    {
     "name": "stdout",
     "output_type": "stream",
     "text": [
      "Requirement already satisfied: lenskit in c:\\users\\fleur\\anaconda3\\lib\\site-packages (0.14.0)\n",
      "Requirement already satisfied: csr>=0.3.1 in c:\\users\\fleur\\anaconda3\\lib\\site-packages (from lenskit) (0.4.1)\n",
      "Requirement already satisfied: scipy>=1.2 in c:\\users\\fleur\\anaconda3\\lib\\site-packages (from lenskit) (1.5.2)\n",
      "Requirement already satisfied: numpy>=1.17 in c:\\users\\fleur\\anaconda3\\lib\\site-packages (from lenskit) (1.22.2)\n",
      "Requirement already satisfied: binpickle>=0.3.2 in c:\\users\\fleur\\anaconda3\\lib\\site-packages (from lenskit) (0.3.4)\n",
      "Requirement already satisfied: seedbank>=0.1.0 in c:\\users\\fleur\\anaconda3\\lib\\site-packages (from lenskit) (0.1.2)\n",
      "Requirement already satisfied: pandas==1.*,>=1.0 in c:\\users\\fleur\\anaconda3\\lib\\site-packages (from lenskit) (1.1.3)\n",
      "Requirement already satisfied: numba<0.56,>=0.51 in c:\\users\\fleur\\anaconda3\\lib\\site-packages (from lenskit) (0.51.2)\n",
      "Requirement already satisfied: cffi>=1.12.2 in c:\\users\\fleur\\anaconda3\\lib\\site-packages (from lenskit) (1.14.3)\n",
      "Requirement already satisfied: psutil>=5 in c:\\users\\fleur\\anaconda3\\lib\\site-packages (from lenskit) (5.7.2)\n",
      "Requirement already satisfied: msgpack>=1.0 in c:\\users\\fleur\\anaconda3\\lib\\site-packages (from binpickle>=0.3.2->lenskit) (1.0.0)\n",
      "Requirement already satisfied: anyconfig in c:\\users\\fleur\\anaconda3\\lib\\site-packages (from seedbank>=0.1.0->lenskit) (0.12.0)Note: you may need to restart the kernel to use updated packages.\n",
      "\n",
      "Requirement already satisfied: pytz>=2017.2 in c:\\users\\fleur\\anaconda3\\lib\\site-packages (from pandas==1.*,>=1.0->lenskit) (2020.1)\n",
      "Requirement already satisfied: python-dateutil>=2.7.3 in c:\\users\\fleur\\anaconda3\\lib\\site-packages (from pandas==1.*,>=1.0->lenskit) (2.8.1)\n",
      "Requirement already satisfied: llvmlite<0.35,>=0.34.0.dev0 in c:\\users\\fleur\\anaconda3\\lib\\site-packages (from numba<0.56,>=0.51->lenskit) (0.34.0)\n",
      "Requirement already satisfied: setuptools in c:\\users\\fleur\\anaconda3\\lib\\site-packages (from numba<0.56,>=0.51->lenskit) (50.3.1.post20201107)\n",
      "Requirement already satisfied: pycparser in c:\\users\\fleur\\anaconda3\\lib\\site-packages (from cffi>=1.12.2->lenskit) (2.20)\n",
      "Requirement already satisfied: six>=1.5 in c:\\users\\fleur\\anaconda3\\lib\\site-packages (from python-dateutil>=2.7.3->pandas==1.*,>=1.0->lenskit) (1.15.0)\n"
     ]
    }
   ],
   "source": [
    "%pip install lenskit"
   ]
  },
  {
   "cell_type": "code",
   "execution_count": 12,
   "metadata": {},
   "outputs": [],
   "source": [
    "from lenskit.datasets import ML100K\n",
    "from lenskit import batch, topn, util\n",
    "from lenskit import crossfold as xf\n",
    "from lenskit.algorithms import Recommender, als, item_knn as knn\n",
    "from lenskit import topn"
   ]
  },
  {
   "cell_type": "code",
   "execution_count": 13,
   "metadata": {},
   "outputs": [],
   "source": [
    "import pandas as pd\n",
    "import tqdm"
   ]
  },
  {
   "cell_type": "markdown",
   "metadata": {},
   "source": [
    "### Load the desired dataset (ML100K / ML1M / MovieLens)"
   ]
  },
  {
   "cell_type": "code",
   "execution_count": 21,
   "metadata": {},
   "outputs": [
    {
     "name": "stdout",
     "output_type": "stream",
     "text": [
      "100000\n"
     ]
    }
   ],
   "source": [
    "ml100k = ML100K('ml-100k\\ml-100k')\n",
    "ratings = ml100k.ratings\n",
    "ratings.drop(['timestamp'], axis=1, inplace=True)\n",
    "ratings.head()\n",
    "\n",
    "print(len(ratings))"
   ]
  },
  {
   "cell_type": "markdown",
   "metadata": {},
   "source": [
    "### Splitting the data into test, validation and training sets "
   ]
  },
  {
   "cell_type": "code",
   "execution_count": 22,
   "metadata": {},
   "outputs": [
    {
     "name": "stdout",
     "output_type": "stream",
     "text": [
      "       user  item  rating\n",
      "0       196   242     3.0\n",
      "1       186   302     3.0\n",
      "2        22   377     1.0\n",
      "3       244    51     2.0\n",
      "4       166   346     1.0\n",
      "...     ...   ...     ...\n",
      "99995   880   476     3.0\n",
      "99996   716   204     5.0\n",
      "99997   276  1090     1.0\n",
      "99998    13   225     2.0\n",
      "99999    12   203     3.0\n",
      "\n",
      "[100000 rows x 3 columns]\n",
      "9988\n",
      "90012\n"
     ]
    }
   ],
   "source": [
    "import lenskit.crossfold as xf\n",
    "\n",
    "print(ratings)\n",
    "# ratings = data.rename(columns={'user_id': 'user', 'item_id': 'item'})\n",
    "# for splitting by time: xf.LastN(10)\n",
    "for i, tp in enumerate(xf.partition_users(ratings, 1, xf.SampleFrac(0.1))):\n",
    "    tp.train.to_csv(r'C:\\Users\\fleur\\Thesis B3\\RQ0\\RobustnessOfMetaMF-master\\RobustnessOfMetaMF-master\\ThesisData\\ml-100k\\ml-100k\\ml-100k.trainval.rating', index = False)\n",
    "    trainVal = tp.train\n",
    "    tp.test.to_csv(r'C:\\Users\\fleur\\Thesis B3\\RQ0\\RobustnessOfMetaMF-master\\RobustnessOfMetaMF-master\\ThesisData\\ml-100k\\ml-100k\\ml-100k.test.rating', index = False)\n",
    "    test = tp.test\n",
    "    \n",
    "print(len(test))\n",
    "print(len(trainVal))"
   ]
  },
  {
   "cell_type": "code",
   "execution_count": 23,
   "metadata": {},
   "outputs": [
    {
     "name": "stdout",
     "output_type": "stream",
     "text": [
      "8996\n",
      "81016\n",
      "90012\n"
     ]
    }
   ],
   "source": [
    "for i, tp in enumerate(xf.partition_users(trainVal, 1, xf.SampleFrac(0.1))):\n",
    "    tp.train.to_csv(r'C:\\Users\\fleur\\Thesis B3\\RQ0\\RobustnessOfMetaMF-master\\RobustnessOfMetaMF-master\\ThesisData\\ml-100k\\ml-100k\\ml-100k.train.rating', index = False)\n",
    "    train = tp.train\n",
    "    tp.test.to_csv(r'C:\\Users\\fleur\\Thesis B3\\RQ0\\RobustnessOfMetaMF-master\\RobustnessOfMetaMF-master\\ThesisData\\ml-100k\\ml-100k\\ml-100k.valid.rating', index = False)\n",
    "    val = tp.test\n",
    "    \n",
    "print(len(val))\n",
    "print(len(train))\n",
    "print(len(train)+len(val))"
   ]
  },
  {
   "cell_type": "markdown",
   "metadata": {},
   "source": [
    "#### ^ After this step, delete the item,user,rating line from the data manually"
   ]
  },
  {
   "cell_type": "markdown",
   "metadata": {},
   "source": [
    "### Making an itemlist "
   ]
  },
  {
   "cell_type": "code",
   "execution_count": 24,
   "metadata": {},
   "outputs": [
    {
     "name": "stdout",
     "output_type": "stream",
     "text": [
      "100000\n",
      "1682\n"
     ]
    }
   ],
   "source": [
    "items = ratings.copy()\n",
    "print(len(items))\n",
    "\n",
    "items.drop(['user', 'rating'], axis=1, inplace=True)\n",
    "sort = items.sort_values(items.columns[0], ascending = True)\n",
    "itemlist = sort.drop_duplicates(subset = ['item'], keep = 'first')\n",
    "\n",
    "print(len(itemlist))\n",
    "\n",
    "itemlist.to_csv(r'C:\\Users\\fleur\\Thesis B3\\RQ0\\RobustnessOfMetaMF-master\\RobustnessOfMetaMF-master\\ThesisData\\ml-100k\\ml-100k\\ml-100k.itemlist', header=None, index=None, sep=' ', mode='w')"
   ]
  },
  {
   "cell_type": "markdown",
   "metadata": {},
   "source": [
    "### Making a userlist"
   ]
  },
  {
   "cell_type": "code",
   "execution_count": 25,
   "metadata": {},
   "outputs": [
    {
     "name": "stdout",
     "output_type": "stream",
     "text": [
      "100000\n",
      "943\n"
     ]
    }
   ],
   "source": [
    "users = ratings.copy()\n",
    "print(len(users))\n",
    "\n",
    "users.drop(['item', 'rating'], axis=1, inplace=True)\n",
    "sort = users.sort_values(users.columns[0], ascending = True)\n",
    "userlist = sort.drop_duplicates(subset = ['user'], keep = 'first')\n",
    "\n",
    "print(len(userlist))\n",
    "\n",
    "userlist.to_csv(r'C:\\Users\\fleur\\Thesis B3\\RQ0\\RobustnessOfMetaMF-master\\RobustnessOfMetaMF-master\\ThesisData\\ml-100k\\ml-100k\\ml-100k.userlist', header=None, index=None, sep=' ', mode='w')"
   ]
  },
  {
   "cell_type": "code",
   "execution_count": null,
   "metadata": {},
   "outputs": [],
   "source": []
  }
 ],
 "metadata": {
  "kernelspec": {
   "display_name": "Python 3",
   "language": "python",
   "name": "python3"
  },
  "language_info": {
   "codemirror_mode": {
    "name": "ipython",
    "version": 3
   },
   "file_extension": ".py",
   "mimetype": "text/x-python",
   "name": "python",
   "nbconvert_exporter": "python",
   "pygments_lexer": "ipython3",
   "version": "3.8.5"
  }
 },
 "nbformat": 4,
 "nbformat_minor": 4
}
