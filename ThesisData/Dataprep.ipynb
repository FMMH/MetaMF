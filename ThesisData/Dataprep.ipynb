{
 "cells": [
  {
   "cell_type": "markdown",
   "metadata": {},
   "source": [
    "# Data generation and pre-processing #"
   ]
  },
  {
   "cell_type": "code",
   "execution_count": 1,
   "metadata": {},
   "outputs": [
    {
     "name": "stdout",
     "output_type": "stream",
     "text": [
      "Requirement already satisfied: lenskit in c:\\users\\fleur\\anaconda3\\lib\\site-packages (0.14.0)\n",
      "Requirement already satisfied: csr>=0.3.1 in c:\\users\\fleur\\anaconda3\\lib\\site-packages (from lenskit) (0.4.1)\n",
      "Requirement already satisfied: scipy>=1.2 in c:\\users\\fleur\\anaconda3\\lib\\site-packages (from lenskit) (1.5.2)\n",
      "Requirement already satisfied: numpy>=1.17 in c:\\users\\fleur\\anaconda3\\lib\\site-packages (from lenskit) (1.22.2)\n",
      "Requirement already satisfied: binpickle>=0.3.2 in c:\\users\\fleur\\anaconda3\\lib\\site-packages (from lenskit) (0.3.4)\n",
      "Requirement already satisfied: seedbank>=0.1.0 in c:\\users\\fleur\\anaconda3\\lib\\site-packages (from lenskit) (0.1.2)\n",
      "Requirement already satisfied: pandas==1.*,>=1.0 in c:\\users\\fleur\\anaconda3\\lib\\site-packages (from lenskit) (1.1.3)\n",
      "Requirement already satisfied: numba<0.56,>=0.51 in c:\\users\\fleur\\anaconda3\\lib\\site-packages (from lenskit) (0.51.2)\n",
      "Requirement already satisfied: cffi>=1.12.2 in c:\\users\\fleur\\anaconda3\\lib\\site-packages (from lenskit) (1.14.3)\n",
      "Requirement already satisfied: psutil>=5 in c:\\users\\fleur\\anaconda3\\lib\\site-packages (from lenskit) (5.7.2)\n",
      "Requirement already satisfied: msgpack>=1.0 in c:\\users\\fleur\\anaconda3\\lib\\site-packages (from binpickle>=0.3.2->lenskit) (1.0.0)\n",
      "Requirement already satisfied: anyconfig in c:\\users\\fleur\\anaconda3\\lib\\site-packages (from seedbank>=0.1.0->lenskit) (0.12.0)Note: you may need to restart the kernel to use updated packages.\n",
      "\n",
      "Requirement already satisfied: pytz>=2017.2 in c:\\users\\fleur\\anaconda3\\lib\\site-packages (from pandas==1.*,>=1.0->lenskit) (2020.1)\n",
      "Requirement already satisfied: python-dateutil>=2.7.3 in c:\\users\\fleur\\anaconda3\\lib\\site-packages (from pandas==1.*,>=1.0->lenskit) (2.8.1)\n",
      "Requirement already satisfied: llvmlite<0.35,>=0.34.0.dev0 in c:\\users\\fleur\\anaconda3\\lib\\site-packages (from numba<0.56,>=0.51->lenskit) (0.34.0)\n",
      "Requirement already satisfied: setuptools in c:\\users\\fleur\\anaconda3\\lib\\site-packages (from numba<0.56,>=0.51->lenskit) (50.3.1.post20201107)\n",
      "Requirement already satisfied: pycparser in c:\\users\\fleur\\anaconda3\\lib\\site-packages (from cffi>=1.12.2->lenskit) (2.20)\n",
      "Requirement already satisfied: six>=1.5 in c:\\users\\fleur\\anaconda3\\lib\\site-packages (from python-dateutil>=2.7.3->pandas==1.*,>=1.0->lenskit) (1.15.0)\n"
     ]
    }
   ],
   "source": [
    "%pip install lenskit"
   ]
  },
  {
   "cell_type": "code",
   "execution_count": 6,
   "metadata": {},
   "outputs": [],
   "source": [
    "from lenskit.datasets import ML1M\n",
    "from lenskit import batch, topn, util\n",
    "from lenskit import crossfold as xf\n",
    "from lenskit.algorithms import Recommender, als, item_knn as knn\n",
    "from lenskit import topn"
   ]
  },
  {
   "cell_type": "code",
   "execution_count": 7,
   "metadata": {},
   "outputs": [],
   "source": [
    "import pandas as pd\n",
    "import tqdm"
   ]
  },
  {
   "cell_type": "markdown",
   "metadata": {},
   "source": [
    "### Load the desired dataset (ML100K / ML1M / MovieLens)"
   ]
  },
  {
   "cell_type": "code",
   "execution_count": 8,
   "metadata": {},
   "outputs": [
    {
     "name": "stdout",
     "output_type": "stream",
     "text": [
      "1000209\n"
     ]
    }
   ],
   "source": [
    "ml1m = ML1M('ml-1m\\ml-1m')\n",
    "ratings = ml1m.ratings\n",
    "#ratings.drop(['timestamp'], axis=1, inplace=True)          \n",
    "ratings.head()\n",
    "\n",
    "print(len(ratings))"
   ]
  },
  {
   "cell_type": "markdown",
   "metadata": {},
   "source": [
    "### Ensure no missing values are present"
   ]
  },
  {
   "cell_type": "code",
   "execution_count": 49,
   "metadata": {},
   "outputs": [
    {
     "name": "stdout",
     "output_type": "stream",
     "text": [
      "610\n",
      "9724\n"
     ]
    },
    {
     "data": {
      "text/html": [
       "<div>\n",
       "<style scoped>\n",
       "    .dataframe tbody tr th:only-of-type {\n",
       "        vertical-align: middle;\n",
       "    }\n",
       "\n",
       "    .dataframe tbody tr th {\n",
       "        vertical-align: top;\n",
       "    }\n",
       "\n",
       "    .dataframe thead th {\n",
       "        text-align: right;\n",
       "    }\n",
       "</style>\n",
       "<table border=\"1\" class=\"dataframe\">\n",
       "  <thead>\n",
       "    <tr style=\"text-align: right;\">\n",
       "      <th></th>\n",
       "      <th>user</th>\n",
       "      <th>item</th>\n",
       "      <th>rating</th>\n",
       "      <th>timestamp</th>\n",
       "    </tr>\n",
       "  </thead>\n",
       "  <tbody>\n",
       "    <tr>\n",
       "      <th>0</th>\n",
       "      <td>1</td>\n",
       "      <td>1</td>\n",
       "      <td>4.0</td>\n",
       "      <td>964982703</td>\n",
       "    </tr>\n",
       "    <tr>\n",
       "      <th>1</th>\n",
       "      <td>1</td>\n",
       "      <td>2</td>\n",
       "      <td>4.0</td>\n",
       "      <td>964981247</td>\n",
       "    </tr>\n",
       "    <tr>\n",
       "      <th>2</th>\n",
       "      <td>1</td>\n",
       "      <td>3</td>\n",
       "      <td>4.0</td>\n",
       "      <td>964982224</td>\n",
       "    </tr>\n",
       "    <tr>\n",
       "      <th>3</th>\n",
       "      <td>1</td>\n",
       "      <td>4</td>\n",
       "      <td>5.0</td>\n",
       "      <td>964983815</td>\n",
       "    </tr>\n",
       "    <tr>\n",
       "      <th>4</th>\n",
       "      <td>1</td>\n",
       "      <td>5</td>\n",
       "      <td>5.0</td>\n",
       "      <td>964982931</td>\n",
       "    </tr>\n",
       "    <tr>\n",
       "      <th>...</th>\n",
       "      <td>...</td>\n",
       "      <td>...</td>\n",
       "      <td>...</td>\n",
       "      <td>...</td>\n",
       "    </tr>\n",
       "    <tr>\n",
       "      <th>100831</th>\n",
       "      <td>610</td>\n",
       "      <td>3121</td>\n",
       "      <td>4.0</td>\n",
       "      <td>1493848402</td>\n",
       "    </tr>\n",
       "    <tr>\n",
       "      <th>100832</th>\n",
       "      <td>610</td>\n",
       "      <td>2036</td>\n",
       "      <td>5.0</td>\n",
       "      <td>1493850091</td>\n",
       "    </tr>\n",
       "    <tr>\n",
       "      <th>100833</th>\n",
       "      <td>610</td>\n",
       "      <td>3122</td>\n",
       "      <td>5.0</td>\n",
       "      <td>1494273047</td>\n",
       "    </tr>\n",
       "    <tr>\n",
       "      <th>100834</th>\n",
       "      <td>610</td>\n",
       "      <td>1393</td>\n",
       "      <td>5.0</td>\n",
       "      <td>1493846352</td>\n",
       "    </tr>\n",
       "    <tr>\n",
       "      <th>100835</th>\n",
       "      <td>610</td>\n",
       "      <td>2874</td>\n",
       "      <td>3.0</td>\n",
       "      <td>1493846415</td>\n",
       "    </tr>\n",
       "  </tbody>\n",
       "</table>\n",
       "<p>100836 rows × 4 columns</p>\n",
       "</div>"
      ],
      "text/plain": [
       "        user  item  rating   timestamp\n",
       "0          1     1     4.0   964982703\n",
       "1          1     2     4.0   964981247\n",
       "2          1     3     4.0   964982224\n",
       "3          1     4     5.0   964983815\n",
       "4          1     5     5.0   964982931\n",
       "...      ...   ...     ...         ...\n",
       "100831   610  3121     4.0  1493848402\n",
       "100832   610  2036     5.0  1493850091\n",
       "100833   610  3122     5.0  1494273047\n",
       "100834   610  1393     5.0  1493846352\n",
       "100835   610  2874     3.0  1493846415\n",
       "\n",
       "[100836 rows x 4 columns]"
      ]
     },
     "execution_count": 49,
     "metadata": {},
     "output_type": "execute_result"
    }
   ],
   "source": [
    "data = ratings.copy()\n",
    "\n",
    "unique_id = data.user.unique()\n",
    "dictID = {}\n",
    "i = 1\n",
    "for k in unique_id:\n",
    "    dictID[k] = i\n",
    "    i += 1\n",
    "data['userID'] = data.user.map(dictID)\n",
    "\n",
    "unique_i_id = data.item.unique()\n",
    "dictID_i = {}\n",
    "j = 1\n",
    "for k in unique_i_id:\n",
    "    dictID_i[k] = j\n",
    "    j += 1\n",
    "data['itemID'] = data.item.map(dictID_i)\n",
    "\n",
    "data = data [['userID', 'itemID', 'rating', 'user', 'item', 'timestamp']]\n",
    "del data['user']\n",
    "del data['item']\n",
    "print(len(data.userID.unique()))\n",
    "print(len(data.itemID.unique()))\n",
    "\n",
    "# user_info = {k: v for k, v in user_info.items() if k in filter_users_list}\n",
    "data = data.rename(columns={'userID': 'user', 'itemID': 'item'})\n",
    "data "
   ]
  },
  {
   "cell_type": "code",
   "execution_count": 50,
   "metadata": {},
   "outputs": [
    {
     "name": "stdout",
     "output_type": "stream",
     "text": [
      "9724\n"
     ]
    },
    {
     "data": {
      "text/plain": [
       "21      329\n",
       "233     317\n",
       "17      307\n",
       "35      279\n",
       "167     278\n",
       "       ... \n",
       "7973      1\n",
       "8853      1\n",
       "4755      1\n",
       "6802      1\n",
       "8895      1\n",
       "Name: item, Length: 9724, dtype: int64"
      ]
     },
     "execution_count": 50,
     "metadata": {},
     "output_type": "execute_result"
    }
   ],
   "source": [
    "print(data.item.max())\n",
    "data.item.value_counts()"
   ]
  },
  {
   "cell_type": "code",
   "execution_count": 51,
   "metadata": {},
   "outputs": [
    {
     "name": "stdout",
     "output_type": "stream",
     "text": [
      "   user  item  rating  timestamp\n",
      "0     1     1     4.0  964982703\n",
      "1     1     2     4.0  964981247\n",
      "2     1     3     4.0  964982224\n",
      "3     1     4     5.0  964983815\n",
      "4     1     5     5.0  964982931\n",
      "unique movies id's:  9724\n",
      "amount of ratings:  100836\n",
      "amount of users:  610\n",
      "Amount of duplicates =  0\n"
     ]
    }
   ],
   "source": [
    "print(data.head())\n",
    "print(\"unique movies id's: \",len(data[\"item\"].unique())) \n",
    "print(\"amount of ratings: \",len(data[\"item\"]))\n",
    "print(\"amount of users: \",len(data[\"user\"].unique()))\n",
    "print(\"Amount of duplicates = \",len(data[\"item\"].unique()) - len(data[\"item\"].unique()))"
   ]
  },
  {
   "cell_type": "markdown",
   "metadata": {},
   "source": [
    "### Splitting the data into test, validation and training sets *at random*"
   ]
  },
  {
   "cell_type": "code",
   "execution_count": 11,
   "metadata": {},
   "outputs": [
    {
     "name": "stdout",
     "output_type": "stream",
     "text": [
      "         user  item  rating\n",
      "0           1     1     5.0\n",
      "1           1     2     3.0\n",
      "2           1     3     3.0\n",
      "3           1     4     4.0\n",
      "4           1     5     5.0\n",
      "...       ...   ...     ...\n",
      "1000204  6040   773     1.0\n",
      "1000205  6040  1107     5.0\n",
      "1000206  6040   366     5.0\n",
      "1000207  6040   153     4.0\n",
      "1000208  6040    27     4.0\n",
      "\n",
      "[1000209 rows x 3 columns]\n",
      "99950\n",
      "900259\n"
     ]
    }
   ],
   "source": [
    "import lenskit.crossfold as xf\n",
    "\n",
    "print(data)\n",
    "\n",
    "# Decrease user_id and item_id by 1 in order to start counting from 0\n",
    "data['user']-=1\n",
    "data['item']-=1\n",
    "\n",
    "for i, tp in enumerate(xf.partition_users(data, 1, xf.SampleFrac(0.1))):\n",
    "    tp.train.to_csv(r'C:\\Users\\fleur\\Thesis B3\\RQ0\\RobustnessOfMetaMF-master\\RobustnessOfMetaMF-master\\ThesisData\\ml-1m\\ml-1m\\ml-1m.trainval.rating', index = False)\n",
    "    trainVal = tp.train\n",
    "    tp.test.to_csv(r'C:\\Users\\fleur\\Thesis B3\\RQ0\\RobustnessOfMetaMF-master\\RobustnessOfMetaMF-master\\ThesisData\\ml-1m\\ml-1m\\ml-1m.test.rating', index = False)\n",
    "    test = tp.test\n",
    "    \n",
    "print(len(test))\n",
    "print(len(trainVal))"
   ]
  },
  {
   "cell_type": "code",
   "execution_count": 12,
   "metadata": {},
   "outputs": [
    {
     "name": "stdout",
     "output_type": "stream",
     "text": [
      "89976\n",
      "810283\n",
      "900259\n"
     ]
    }
   ],
   "source": [
    "for i, tp in enumerate(xf.partition_users(trainVal, 1, xf.SampleFrac(0.1))):\n",
    "    tp.train.to_csv(r'C:\\Users\\fleur\\Thesis B3\\RQ0\\RobustnessOfMetaMF-master\\RobustnessOfMetaMF-master\\ThesisData\\ml-1m\\ml-1m\\ml-1m.train.rating', index = False)\n",
    "    train = tp.train\n",
    "    tp.test.to_csv(r'C:\\Users\\fleur\\Thesis B3\\RQ0\\RobustnessOfMetaMF-master\\RobustnessOfMetaMF-master\\ThesisData\\ml-1m\\ml-1m\\ml-1m.valid.rating', index = False)\n",
    "    val = tp.test\n",
    "    \n",
    "print(len(val))\n",
    "print(len(train))\n",
    "print(len(train)+len(val))"
   ]
  },
  {
   "cell_type": "markdown",
   "metadata": {},
   "source": [
    "### Splitting the data into test, validation and training sets *based on time*"
   ]
  },
  {
   "cell_type": "code",
   "execution_count": 4,
   "metadata": {},
   "outputs": [
    {
     "ename": "TypeError",
     "evalue": "object of type 'LastFrac' has no len()",
     "output_type": "error",
     "traceback": [
      "\u001b[1;31m---------------------------------------------------------------------------\u001b[0m",
      "\u001b[1;31mTypeError\u001b[0m                                 Traceback (most recent call last)",
      "\u001b[1;32m<ipython-input-4-ee6e29adcddd>\u001b[0m in \u001b[0;36m<module>\u001b[1;34m\u001b[0m\n\u001b[0;32m      2\u001b[0m \u001b[1;33m\u001b[0m\u001b[0m\n\u001b[0;32m      3\u001b[0m \u001b[0mm\u001b[0m \u001b[1;33m=\u001b[0m \u001b[0mxf\u001b[0m\u001b[1;33m.\u001b[0m\u001b[0mLastFrac\u001b[0m\u001b[1;33m(\u001b[0m\u001b[1;36m0.1\u001b[0m\u001b[1;33m,\u001b[0m \u001b[0mcol\u001b[0m\u001b[1;33m=\u001b[0m\u001b[1;34m'timestamp'\u001b[0m\u001b[1;33m)\u001b[0m\u001b[1;33m\u001b[0m\u001b[1;33m\u001b[0m\u001b[0m\n\u001b[1;32m----> 4\u001b[1;33m \u001b[0mprint\u001b[0m\u001b[1;33m(\u001b[0m\u001b[0mlen\u001b[0m\u001b[1;33m(\u001b[0m\u001b[0mm\u001b[0m\u001b[1;33m)\u001b[0m\u001b[1;33m)\u001b[0m\u001b[1;33m\u001b[0m\u001b[1;33m\u001b[0m\u001b[0m\n\u001b[0m",
      "\u001b[1;31mTypeError\u001b[0m: object of type 'LastFrac' has no len()"
     ]
    }
   ],
   "source": [
    "import lenskit.crossfold as xf\n",
    "\n",
    "m = xf.LastFrac(0.1, col='timestamp')\n",
    "print(len(m))"
   ]
  },
  {
   "cell_type": "code",
   "execution_count": 52,
   "metadata": {},
   "outputs": [
    {
     "name": "stdout",
     "output_type": "stream",
     "text": [
      "        user  item  rating   timestamp\n",
      "0          1     1     4.0   964982703\n",
      "1          1     2     4.0   964981247\n",
      "2          1     3     4.0   964982224\n",
      "3          1     4     5.0   964983815\n",
      "4          1     5     5.0   964982931\n",
      "...      ...   ...     ...         ...\n",
      "100831   610  3121     4.0  1493848402\n",
      "100832   610  2036     5.0  1493850091\n",
      "100833   610  3122     5.0  1494273047\n",
      "100834   610  1393     5.0  1493846352\n",
      "100835   610  2874     3.0  1493846415\n",
      "\n",
      "[100836 rows x 4 columns]\n",
      "10093\n",
      "90743\n"
     ]
    }
   ],
   "source": [
    "import lenskit.crossfold as xf\n",
    "\n",
    "print(data)\n",
    "\n",
    "# Decrease user_id and item_id by 1\n",
    "data['user']-=1\n",
    "data['item']-=1\n",
    "\n",
    "for i, tp in enumerate(xf.partition_users(data, 1, xf.LastFrac(0.1, col='timestamp'))):\n",
    "    tp.train.to_csv(r'C:\\Users\\fleur\\Thesis B3\\RQ0\\RobustnessOfMetaMF-master\\RobustnessOfMetaMF-master\\ThesisData\\ml-latest-small\\ml-latest-small_time\\ml-latest-small.trainval.rating', index = False)\n",
    "    trainVal = tp.train\n",
    "    tp.test.to_csv(r'C:\\Users\\fleur\\Thesis B3\\RQ0\\RobustnessOfMetaMF-master\\RobustnessOfMetaMF-master\\ThesisData\\ml-latest-small\\ml-latest-small_time\\ml-latest-small.test.rating', index = False)\n",
    "    test = tp.test\n",
    "    \n",
    "print(len(test))\n",
    "print(len(trainVal))"
   ]
  },
  {
   "cell_type": "code",
   "execution_count": 53,
   "metadata": {},
   "outputs": [
    {
     "name": "stdout",
     "output_type": "stream",
     "text": [
      "9071\n",
      "81672\n",
      "90743\n"
     ]
    }
   ],
   "source": [
    "for i, tp in enumerate(xf.partition_users(trainVal, 1, xf.LastFrac(0.1, col='timestamp'))):\n",
    "    tp.train.to_csv(r'C:\\Users\\fleur\\Thesis B3\\RQ0\\RobustnessOfMetaMF-master\\RobustnessOfMetaMF-master\\ThesisData\\ml-latest-small\\ml-latest-small_time\\ml-latest-small.train.rating', index = False)\n",
    "    train = tp.train\n",
    "    tp.test.to_csv(r'C:\\Users\\fleur\\Thesis B3\\RQ0\\RobustnessOfMetaMF-master\\RobustnessOfMetaMF-master\\ThesisData\\ml-latest-small\\ml-latest-small_time\\ml-latest-small.valid.rating', index = False)\n",
    "    val = tp.test\n",
    "    \n",
    "print(len(val))\n",
    "print(len(train))\n",
    "print(len(train)+len(val))"
   ]
  },
  {
   "cell_type": "markdown",
   "metadata": {},
   "source": [
    "#### ^ After this step, delete the item,user,rating line from the data manually"
   ]
  },
  {
   "cell_type": "markdown",
   "metadata": {},
   "source": [
    "### Making an itemlist "
   ]
  },
  {
   "cell_type": "code",
   "execution_count": 54,
   "metadata": {},
   "outputs": [
    {
     "name": "stdout",
     "output_type": "stream",
     "text": [
      "100836\n",
      "9724\n"
     ]
    }
   ],
   "source": [
    "items = data.copy()\n",
    "print(len(items))\n",
    "\n",
    "items.drop(['user', 'rating', 'timestamp'], axis=1, inplace=True)\n",
    "sort = items.sort_values(items.columns[0], ascending = True)\n",
    "itemlist = sort.drop_duplicates(subset = ['item'], keep = 'first')\n",
    "\n",
    "print(len(itemlist))\n",
    "\n",
    "itemlist.to_csv(r'C:\\Users\\fleur\\Thesis B3\\RQ0\\RobustnessOfMetaMF-master\\RobustnessOfMetaMF-master\\ThesisData\\ml-latest-small\\ml-latest-small_time\\ml-latest-small.itemlist', header=None, index=None, sep=' ', mode='w')"
   ]
  },
  {
   "cell_type": "markdown",
   "metadata": {},
   "source": [
    "### Making a userlist"
   ]
  },
  {
   "cell_type": "code",
   "execution_count": 55,
   "metadata": {},
   "outputs": [
    {
     "name": "stdout",
     "output_type": "stream",
     "text": [
      "100836\n",
      "610\n"
     ]
    }
   ],
   "source": [
    "users = data.copy()\n",
    "print(len(users))\n",
    "\n",
    "users.drop(['item', 'rating', 'timestamp'], axis=1, inplace=True)\n",
    "sort = users.sort_values(users.columns[0], ascending = True)\n",
    "userlist = sort.drop_duplicates(subset = ['user'], keep = 'first')\n",
    "\n",
    "print(len(userlist))\n",
    "\n",
    "userlist.to_csv(r'C:\\Users\\fleur\\Thesis B3\\RQ0\\RobustnessOfMetaMF-master\\RobustnessOfMetaMF-master\\ThesisData\\ml-latest-small\\ml-latest-small_time\\ml-latest-small.userlist', header=None, index=None, sep=' ', mode='w')"
   ]
  },
  {
   "cell_type": "code",
   "execution_count": null,
   "metadata": {},
   "outputs": [],
   "source": []
  }
 ],
 "metadata": {
  "kernelspec": {
   "display_name": "Python 3",
   "language": "python",
   "name": "python3"
  },
  "language_info": {
   "codemirror_mode": {
    "name": "ipython",
    "version": 3
   },
   "file_extension": ".py",
   "mimetype": "text/x-python",
   "name": "python",
   "nbconvert_exporter": "python",
   "pygments_lexer": "ipython3",
   "version": "3.8.5"
  }
 },
 "nbformat": 4,
 "nbformat_minor": 4
}
